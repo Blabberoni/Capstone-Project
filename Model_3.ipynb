{
 "cells": [
  {
   "cell_type": "markdown",
   "metadata": {
    "id": "VTvr4_sti9Am"
   },
   "source": [
    "# Introduction\n"
   ]
  },
  {
   "cell_type": "markdown",
   "metadata": {
    "id": "hLxGKTjGACEf"
   },
   "source": [
    "This is the **Competitive Pricing Model** which adds location intelligence and simulates real-world competition:\n",
    "\n",
    "• Calculate geographic proximity of nearby parking spaces using lat-long.\n",
    "\n",
    "• Determine competitor prices and factor them into our own pricing."
   ]
  },
  {
   "cell_type": "code",
   "execution_count": null,
   "metadata": {
    "colab": {
     "base_uri": "https://localhost:8080/"
    },
    "id": "LlwkKnB50IGF",
    "outputId": "133d3335-9d67-4f18-a11a-cd6e913b67b0"
   },
   "outputs": [],
   "source": [
    "!pip install pathway bokeh --quiet # This cell may take a few seconds to execute."
   ]
  },
  {
   "cell_type": "code",
   "execution_count": null,
   "metadata": {
    "colab": {
     "base_uri": "https://localhost:8080/",
     "height": 17
    },
    "id": "pHuc1nkJveN3",
    "outputId": "5fea94ae-3001-45ae-9cbc-31e2041dbd39"
   },
   "outputs": [],
   "source": [
    "# Importing Required Libraries\n",
    "import numpy as np\n",
    "import pandas as pd\n",
    "import matplotlib.pyplot as plt\n",
    "import json\n",
    "import datetime\n",
    "from datetime import datetime\n",
    "from math import radians, sin, cos, sqrt, atan2\n",
    "import pathway as pw\n",
    "import bokeh.plotting\n",
    "import panel as pn"
   ]
  },
  {
   "cell_type": "markdown",
   "metadata": {
    "id": "gGpZl1FxjFXE"
   },
   "source": [
    "# Step 1: Importing and Preprocessing the Data"
   ]
  },
  {
   "cell_type": "code",
   "execution_count": null,
   "metadata": {
    "colab": {
     "base_uri": "https://localhost:8080/",
     "height": 443
    },
    "id": "4D6geoV9veN3",
    "outputId": "48839a7a-3ec3-4b07-a22a-f53aae7f60a1"
   },
   "outputs": [],
   "source": [
    "df = pd.read_csv('/content/dataset.csv')\n",
    "df.head()"
   ]
  },
  {
   "cell_type": "code",
   "execution_count": null,
   "metadata": {
    "id": "iDcQ_TwVky1Y"
   },
   "outputs": [],
   "source": [
    "# Combine the 'LastUpdatedDate' and 'LastUpdatedTime' columns into a single datetime column\n",
    "df['Timestamp'] = pd.to_datetime(df['LastUpdatedDate'] + ' ' + df['LastUpdatedTime'],\n",
    "                                 format='%d-%m-%Y %H:%M:%S')\n",
    "\n",
    "# Sort the DataFrame by 'SystemCodeNumber' and the new 'Timestamp' column, and reset the index\n",
    "df = df.sort_values(by=['SystemCodeNumber', 'Timestamp']).reset_index(drop=True)"
   ]
  },
  {
   "cell_type": "code",
   "execution_count": null,
   "metadata": {
    "id": "LXGUxL82pyyO"
   },
   "outputs": [],
   "source": [
    "# Save the selected columns to a CSV file for streaming or downstream processing\n",
    "df_selected = df[[\"SystemCodeNumber\", \"Timestamp\", \"Occupancy\", \"Capacity\", \"QueueLength\", \"TrafficConditionNearby\", \"IsSpecialDay\", \"VehicleType\"]]\n",
    "df_selected.to_csv(\"demand_parking_stream.csv\", index=False)"
   ]
  },
  {
   "cell_type": "code",
   "execution_count": null,
   "metadata": {
    "id": "jrOEIvzFF2uj"
   },
   "outputs": [],
   "source": [
    "# Precompute nearby competitors (offline in pandas)\n",
    "lots = df_selected.groupby('SystemCodeNumber')[['Latitude','Longitude']].first().reset_index()\n",
    "\n",
    "def haversine(lat1, lon1, lat2, lon2):\n",
    "    R = 6371000\n",
    "    phi1, phi2 = radians(lat1), radians(lat2)\n",
    "    dphi = radians(lat2-lat1)\n",
    "    dlambda = radians(lon2-lon1)\n",
    "    a = sin(dphi/2)**2 + cos(phi1)*cos(phi2)*sin(dlambda/2)**2\n",
    "    return R*2*atan2(sqrt(a), sqrt(1 - a))\n",
    "\n",
    "nearby = {}\n",
    "for i, lot in lots.iterrows():\n",
    "    competitors = []\n",
    "    for j, other in lots.iterrows():\n",
    "        if lot['SystemCodeNumber'] != other['SystemCodeNumber']:\n",
    "            dist = haversine(lot['Latitude'], lot['Longitude'], other['Latitude'], other['Longitude'])\n",
    "            if dist < 500:  # within 500 meters\n",
    "                competitors.append(other['SystemCodeNumber'])\n",
    "    nearby[lot['SystemCodeNumber']] = competitors\n",
    "\n",
    "with open('nearby_competitors.json','w') as f:\n",
    "    json.dump(nearby, f)"
   ]
  },
  {
   "cell_type": "code",
   "execution_count": null,
   "metadata": {
    "id": "oMurUq91m2K-"
   },
   "outputs": [],
   "source": [
    "# Define the schema for the streaming data using Pathway\n",
    "class ParkingSchema(pw.Schema):\n",
    "    SystemCodeNumber: str\n",
    "    Capacity: int\n",
    "    Occupancy: int\n",
    "    QueueLength: int\n",
    "    TrafficConditionNearby: str\n",
    "    IsSpecialDay: int\n",
    "    VehicleType: str\n",
    "    Timestamp: str\n",
    "    Latitude: float\n",
    "    Longitude: float"
   ]
  },
  {
   "cell_type": "code",
   "execution_count": null,
   "metadata": {
    "id": "QvE7QYpzrhKW"
   },
   "outputs": [],
   "source": [
    "# Load the data as a simulated stream using Pathway's replay_csv function\n",
    "data_3 = pw.demo.replay_csv(\"demand_parking_stream.csv\", schema=ParkingSchema, input_rate=500)"
   ]
  },
  {
   "cell_type": "code",
   "execution_count": null,
   "metadata": {
    "id": "XaGstO9mrvrA"
   },
   "outputs": [],
   "source": [
    "# Define the datetime format to parse the 'Timestamp' column\n",
    "fmt = \"%Y-%m-%d %H:%M:%S\"\n",
    "\n",
    "# Add new columns to the data stream:\n",
    "data_with_time = data_3.with_columns(\n",
    "    t = data_3.Timestamp.dt.strptime(fmt),\n",
    "    day = data_3.Timestamp.dt.strptime(fmt).dt.strftime(\"%Y-%m-%dT00:00:00\")\n",
    ")"
   ]
  },
  {
   "cell_type": "markdown",
   "metadata": {
    "id": "VoutS-o9myC2"
   },
   "source": [
    "# Step 2: Making a competitive pricing function"
   ]
  },
  {
   "cell_type": "code",
   "execution_count": null,
   "metadata": {
    "id": "lyGOlfDnrzHO"
   },
   "outputs": [],
   "source": [
    "# Map categorical features & compute occupancy ratio\n",
    "@pw.udf(return_type=int)\n",
    "def map_traffic(level):\n",
    "    return {'low':1, 'medium':2, 'high':3}.get(level,1)\n",
    "\n",
    "@pw.udf(return_type=float)\n",
    "def vehicle_weight(vtype):\n",
    "    return {'car':1, 'bike':0.5, 'truck':1.5}.get(vtype,1)\n",
    "\n",
    "data_mapped = data_with_time.with_columns(\n",
    "    traffic_num = map_traffic(data_with_time.TrafficConditionNearby),\n",
    "    vehicle_weight = vehicle_weight(data_with_time.VehicleType),\n",
    "    occupancy_ratio = data_with_time.Occupancy / data_with_time.Capacity\n",
    ")\n",
    "\n",
    "# Define some required UDFs\n",
    "@pw.udf(return_type=float)\n",
    "def normalize_demand(d):\n",
    "    return max(0, min(1, (d + 3) / 6))\n",
    "\n",
    "@pw.udf(return_type=float)\n",
    "def bound_price(p, base_price):\n",
    "    return max(0.5 * base_price, min(2 * base_price, p))\n",
    "\n",
    "# Load competitor groups\n",
    "with open('nearby_competitors.json') as f:\n",
    "    nearby_dict = json.load(f)\n",
    "\n",
    "@pw.udf\n",
    "def get_competitors(lot_id):\n",
    "    return nearby_dict.get(lot_id, [])\n",
    "\n",
    "data_with_group = data_mapped.with_columns(\n",
    "    competitor_group = get_competitors(data_mapped.SystemCodeNumber)\n",
    ")\n",
    "\n",
    "# Demand parameters\n",
    "alpha, beta, gamma, delta, epsilon, lambd = 0.6, 0.3, 0.2, 0.5, 0.4, 1\n",
    "base_price = 10\n",
    "\n",
    "# Daily tumbling window WITH competitor price\n",
    "daily_window = (\n",
    "    data_with_group.windowby(\n",
    "        pw.this.t,\n",
    "        instance=pw.this.day + \"_\" + pw.this.SystemCodeNumber,  # separate per lot\n",
    "        window=pw.temporal.tumbling(datetime.timedelta(days=1)),\n",
    "        behavior=pw.temporal.exactly_once_behavior()\n",
    "    )\n",
    "    .reduce(\n",
    "        t = pw.this._pw_window_end,\n",
    "        lot_id = pw.reducers.first(pw.this.SystemCodeNumber),\n",
    "        avg_occ_ratio = pw.reducers.avg(pw.this.occupancy_ratio),\n",
    "        avg_queue = pw.reducers.avg(pw.this.QueueLength),\n",
    "        avg_traffic = pw.reducers.avg(pw.this.traffic_num),\n",
    "        avg_vehicle_weight = pw.reducers.avg(pw.this.vehicle_weight),\n",
    "        special_day = pw.reducers.max(pw.this.IsSpecialDay),\n",
    "    )\n",
    "    .with_columns(\n",
    "        demand = (\n",
    "            alpha * pw.this.avg_occ_ratio\n",
    "          + beta * pw.this.avg_queue\n",
    "          - gamma * pw.this.avg_traffic\n",
    "          + delta * pw.this.special_day\n",
    "          + epsilon * pw.this.avg_vehicle_weight\n",
    "        )\n",
    "    )\n",
    "    .with_columns(\n",
    "        norm_demand = normalize_demand(pw.this.demand)\n",
    "    )\n",
    "    .with_columns(\n",
    "        raw_price = base_price * (1 + lambd * pw.this.norm_demand),\n",
    "    )\n",
    ")\n",
    "\n",
    "# Compute avg competitor price via self-join\n",
    "competitor_prices = daily_window.join(\n",
    "    daily_window, pw.left.lot_id != pw.right.lot_id\n",
    ").filter(\n",
    "    pw.right.lot_id.isin(get_competitors(pw.left.lot_id))\n",
    ").reduce(\n",
    "    left_lot = pw.reducers.first(pw.left.lot_id),\n",
    "    t = pw.reducers.first(pw.left.t),\n",
    "    own_price = pw.reducers.first(pw.left.raw_price),\n",
    "    avg_competitor_price = pw.reducers.avg(pw.right.raw_price)\n",
    ").with_columns(\n",
    "    competitive_price = pw.this.own_price - (pw.this.avg_competitor_price - base_price)*0.2\n",
    ")"
   ]
  },
  {
   "cell_type": "markdown",
   "metadata": {
    "id": "RQXLBYDOsuD_"
   },
   "source": [
    "# Step 3: Visualizing Daily Price Fluctuations with a Bokeh Plot"
   ]
  },
  {
   "cell_type": "code",
   "execution_count": null,
   "metadata": {
    "colab": {
     "base_uri": "https://localhost:8080/",
     "height": 505
    },
    "id": "nfiNcTOAs2cG",
    "outputId": "190a99da-c8cb-4270-c3a7-a199f19d66bb"
   },
   "outputs": [],
   "source": [
    "# Activate the Panel extension to enable interactive visualizations\n",
    "pn.extension()\n",
    "\n",
    "# Define Bokeh plotting function\n",
    "def price_plotter(source):\n",
    "    fig = bokeh.plotting.figure(\n",
    "        title=\"Competitive Daily Parking Price\",\n",
    "        x_axis_type=\"datetime\", height=400, width=800\n",
    "    )\n",
    "    fig.line(\"t\", \"competitive_price\", source=source, color=\"navy\", line_width=2)\n",
    "    fig.circle(\"t\", \"competitive_price\", source=source, size=6, color=\"red\")\n",
    "    return fig\n",
    "\n",
    "viz = competitor_prices.plot(price_plotter, sorting_col=\"t\")\n",
    "pn.Column(viz).servable()"
   ]
  },
  {
   "cell_type": "code",
   "execution_count": null,
   "metadata": {
    "colab": {
     "base_uri": "https://localhost:8080/",
     "height": 52,
     "referenced_widgets": [
      "f35139b5eb174804bc4b4ffa6fbe2227",
      "540d946d9e4a4b98822dece39173852a"
     ]
    },
    "id": "51NWj6L_xSNb",
    "outputId": "97ac0e0f-e6d1-47b9-d63e-08600e71edc0"
   },
   "outputs": [],
   "source": [
    "%%capture --no-display\n",
    "pw.run()"
   ]
  },
  {
   "cell_type": "markdown",
   "metadata": {
    "id": "AcP3Vi_CxYXT"
   },
   "source": [
    "# *The End*"
   ]
  }
 ],
 "metadata": {
  "colab": {
   "provenance": []
  },
  "kaggle": {
   "accelerator": "none",
   "dataSources": [
    {
     "datasetId": 7749157,
     "sourceId": 12294858,
     "sourceType": "datasetVersion"
    }
   ],
   "dockerImageVersionId": 31040,
   "isGpuEnabled": false,
   "isInternetEnabled": true,
   "language": "python",
   "sourceType": "notebook"
  },
  "kernelspec": {
   "display_name": "Python 3",
   "language": "python",
   "name": "python3"
  },
  "language_info": {
   "codemirror_mode": {
    "name": "ipython",
    "version": 3
   },
   "file_extension": ".py",
   "mimetype": "text/x-python",
   "name": "python",
   "nbconvert_exporter": "python",
   "pygments_lexer": "ipython3",
   "version": "3.11.11"
  }
 },
 "nbformat": 4,
 "nbformat_minor": 0
}
