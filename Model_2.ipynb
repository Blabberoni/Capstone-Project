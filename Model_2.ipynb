{
 "cells": [
  {
   "cell_type": "markdown",
   "metadata": {
    "id": "VTvr4_sti9Am"
   },
   "source": [
    "# Introduction\n"
   ]
  },
  {
   "cell_type": "markdown",
   "metadata": {
    "id": "Rm8HKcygh4L2"
   },
   "source": [
    "This is the **Demand-Based Pricing Model**, a more advanced model where we:\n",
    "\n",
    "• Construct a mathematical demand function using key features:\n",
    "\n",
    "*   Occupancy rate\n",
    "*   Queue length\n",
    "*   Traffic level\n",
    "*   Special day\n",
    "*   Vehicle type\n",
    "\n",
    "• Ensure demand is normalized and price variations are smooth and bounded (e.g.,\n",
    "not more than 2x or less than 0.5x base)."
   ]
  },
  {
   "cell_type": "code",
   "execution_count": null,
   "metadata": {
    "colab": {
     "base_uri": "https://localhost:8080/"
    },
    "id": "LlwkKnB50IGF",
    "outputId": "d33bfcbe-c8fd-4bb5-e69a-0537278dea77"
   },
   "outputs": [],
   "source": [
    "!pip install pathway bokeh --quiet # This cell may take a few seconds to execute."
   ]
  },
  {
   "cell_type": "code",
   "execution_count": null,
   "metadata": {
    "colab": {
     "base_uri": "https://localhost:8080/",
     "height": 17
    },
    "id": "pHuc1nkJveN3",
    "outputId": "f4222121-ac7f-4096-da06-02cc3ea543ff"
   },
   "outputs": [],
   "source": [
    "# Importing Required Libraries\n",
    "import numpy as np\n",
    "import pandas as pd\n",
    "import matplotlib.pyplot as plt\n",
    "import datetime\n",
    "from datetime import datetime\n",
    "import pathway as pw\n",
    "import bokeh.plotting\n",
    "import panel as pn"
   ]
  },
  {
   "cell_type": "markdown",
   "metadata": {
    "id": "gGpZl1FxjFXE"
   },
   "source": [
    "# Step 1: Importing and Preprocessing the Data"
   ]
  },
  {
   "cell_type": "code",
   "execution_count": null,
   "metadata": {
    "colab": {
     "base_uri": "https://localhost:8080/",
     "height": 226
    },
    "id": "4D6geoV9veN3",
    "outputId": "d32c37f7-c0a2-4c75-e9d8-94816ad154b8"
   },
   "outputs": [],
   "source": [
    "df = pd.read_csv('/content/dataset.csv')\n",
    "df.head()"
   ]
  },
  {
   "cell_type": "code",
   "execution_count": null,
   "metadata": {
    "id": "QBrvlQTjveN4"
   },
   "outputs": [],
   "source": [
    "# Combine the 'LastUpdatedDate' and 'LastUpdatedTime' columns into a single datetime column\n",
    "df['Timestamp'] = pd.to_datetime(df['LastUpdatedDate'] + ' ' + df['LastUpdatedTime'],\n",
    "                                  format='%d-%m-%Y %H:%M:%S')\n",
    "\n",
    "# Sort the DataFrame by 'SystemCodeNumber' and the new 'Timestamp' column, and reset the index\n",
    "df = df.sort_values(by=['SystemCodeNumber', 'Timestamp']).reset_index(drop=True)"
   ]
  },
  {
   "cell_type": "code",
   "execution_count": null,
   "metadata": {
    "id": "c52UkGGpveN5"
   },
   "outputs": [],
   "source": [
    "# Save the selected columns to a CSV file for streaming or downstream processing\n",
    "df[[\"SystemCodeNumber\", \"Timestamp\", \"Occupancy\", \"Capacity\", \"QueueLength\", \"TrafficConditionNearby\", \"IsSpecialDay\", \"VehicleType\"]].to_csv(\"demand_parking_stream.csv\", index=False)"
   ]
  },
  {
   "cell_type": "code",
   "execution_count": null,
   "metadata": {
    "id": "H0pe3TGIyKJE"
   },
   "outputs": [],
   "source": [
    "# Define the schema for the streaming data using Pathway\n",
    "class ParkingSchema(pw.Schema):\n",
    "    SystemCodeNumber: str\n",
    "    Timestamp: str\n",
    "    Occupancy: int\n",
    "    Capacity: int\n",
    "    QueueLength: int\n",
    "    TrafficConditionNearby: str\n",
    "    IsSpecialDay: int\n",
    "    VehicleType: str"
   ]
  },
  {
   "cell_type": "code",
   "execution_count": null,
   "metadata": {
    "id": "a4LxMh4xziMv"
   },
   "outputs": [],
   "source": [
    "# Load the data as a simulated stream using Pathway's replay_csv function\n",
    "# This replays the CSV data at a controlled input rate to mimic real-time streaming\n",
    "\n",
    "data_2 = pw.demo.replay_csv(\"demand_parking_stream.csv\", schema=ParkingSchema, input_rate=100)"
   ]
  },
  {
   "cell_type": "code",
   "execution_count": null,
   "metadata": {
    "id": "IkBP_AA-zjec"
   },
   "outputs": [],
   "source": [
    "# Define the datetime format to parse the 'Timestamp' column\n",
    "fmt = \"%Y-%m-%d %H:%M:%S\"\n",
    "\n",
    "# Add new columns to the data stream:\n",
    "data_with_time = data_2.with_columns(\n",
    "    t = data_2.Timestamp.dt.strptime(fmt),\n",
    "    day = data_2.Timestamp.dt.strptime(fmt).dt.strftime(\"%Y-%m-%dT00:00:00\")\n",
    ")"
   ]
  },
  {
   "cell_type": "markdown",
   "metadata": {
    "id": "JNDR7r4DqkhI"
   },
   "source": [
    "# Step 2: Making a demand-based pricing function"
   ]
  },
  {
   "cell_type": "code",
   "execution_count": null,
   "metadata": {
    "id": "MznsSjanveN5"
   },
   "outputs": [],
   "source": [
    "import datetime\n",
    "\n",
    "# Map categorical features & occupancy ratio\n",
    "@pw.udf(return_type=int)\n",
    "def map_traffic(level):\n",
    "    return {'low':1, 'medium':2, 'high':3}.get(level,1)\n",
    "\n",
    "@pw.udf(return_type=float)\n",
    "def vehicle_weight(vtype):\n",
    "    return {'car':1, 'bike':0.5, 'truck':1.5}.get(vtype,1)\n",
    "\n",
    "data_mapped = data_with_time.with_columns(\n",
    "    traffic_num = map_traffic(data_with_time.TrafficConditionNearby),\n",
    "    vehicle_weight = vehicle_weight(data_with_time.VehicleType),\n",
    "    occupancy_ratio = data_with_time.Occupancy / data_with_time.Capacity,\n",
    ")\n",
    "\n",
    "# Define some required UDFs\n",
    "@pw.udf(return_type=float)\n",
    "def normalize_demand(d):\n",
    "    return max(0, min(1, (d + 3) / 6))\n",
    "\n",
    "@pw.udf(return_type=float)\n",
    "def bound_price(p, base_price):\n",
    "    return max(0.5 * base_price, min(2 * base_price, p))\n",
    "\n",
    "# Define daily tumbling window and compute everything inside\n",
    "alpha, beta, gamma, delta, epsilon, lambd = 0.6, 0.3, 0.2, 0.5, 0.4, 1\n",
    "base_price = 10\n",
    "\n",
    "daily_window = (\n",
    "    data_mapped.windowby(\n",
    "        pw.this.t,\n",
    "        instance=pw.this.day,\n",
    "        window=pw.temporal.tumbling(datetime.timedelta(days=1)),\n",
    "        behavior=pw.temporal.exactly_once_behavior()\n",
    "    )\n",
    "    .reduce(\n",
    "        t = pw.this._pw_window_end,\n",
    "        avg_occ_ratio = pw.reducers.avg(pw.this.occupancy_ratio),\n",
    "        avg_queue = pw.reducers.avg(pw.this.QueueLength),\n",
    "        avg_traffic = pw.reducers.avg(pw.this.traffic_num),\n",
    "        avg_vehicle_weight = pw.reducers.avg(pw.this.vehicle_weight),\n",
    "        special_day = pw.reducers.max(pw.this.IsSpecialDay)\n",
    "    )\n",
    "    .with_columns(\n",
    "        demand = (\n",
    "            alpha * pw.this.avg_occ_ratio\n",
    "          + beta * pw.this.avg_queue\n",
    "          - gamma * pw.this.avg_traffic\n",
    "          + delta * pw.this.special_day\n",
    "          + epsilon * pw.this.avg_vehicle_weight\n",
    "        )\n",
    "    )\n",
    "    .with_columns(\n",
    "        # Normalize demand to [0,1]\n",
    "        norm_demand = normalize_demand(pw.this.demand)\n",
    "    )\n",
    "    .with_columns(\n",
    "        # Compute price: base*(1+λ*norm_demand), bounded\n",
    "        raw_price = base_price * (1 + lambd * pw.this.norm_demand),\n",
    "    )\n",
    "    .with_columns(\n",
    "        demand_daily_price = bound_price(pw.this.raw_price, base_price)\n",
    "    )\n",
    ")"
   ]
  },
  {
   "cell_type": "markdown",
   "metadata": {
    "id": "E3sMSFtUqvax"
   },
   "source": [
    "# Step 3: Visualizing Daily Price Fluctuations with a Bokeh Plot"
   ]
  },
  {
   "cell_type": "code",
   "execution_count": null,
   "metadata": {
    "colab": {
     "base_uri": "https://localhost:8080/",
     "height": 505
    },
    "id": "fOL3BJcGveN5",
    "outputId": "aa35f790-273b-453f-8dc8-09cf0a1cfaab"
   },
   "outputs": [],
   "source": [
    "# Activate the Panel extension to enable interactive visualizations\n",
    "pn.extension()\n",
    "\n",
    "# Define Bokeh plotting function\n",
    "def price_plotter(source):\n",
    "    fig = bokeh.plotting.figure(\n",
    "        height=400,\n",
    "        width=800,\n",
    "        title=\"Pathway: Demand-based Daily Parking Price\",\n",
    "        x_axis_type=\"datetime\"\n",
    "    )\n",
    "    fig.line(\"t\", \"demand_daily_price\", source=source, line_width=2, color=\"navy\")\n",
    "    fig.circle(\"t\", \"demand_daily_price\", source=source, size=6, color=\"red\")\n",
    "    return fig\n",
    "\n",
    "# Bind Pathway table to Bokeh plot using .plot()\n",
    "# sorting_col=\"t\" ensures data points appear in time order\n",
    "viz = daily_window.plot(price_plotter, sorting_col=\"t\")\n",
    "\n",
    "# Make it servable as interactive app\n",
    "pn.Column(viz).servable()"
   ]
  },
  {
   "cell_type": "code",
   "execution_count": null,
   "metadata": {
    "colab": {
     "base_uri": "https://localhost:8080/",
     "height": 34,
     "referenced_widgets": [
      "1718a6678e664c3e910cba0052a6e26c",
      "0f930c3cd0ff452aa44da5944b66f22d"
     ]
    },
    "id": "0IHWGcX6veN6",
    "outputId": "3831e896-948c-4fed-abbc-f89c1c45d90b"
   },
   "outputs": [],
   "source": [
    "# Start the Pathway pipeline execution in the background\n",
    "%%capture --no-display\n",
    "pw.run()"
   ]
  },
  {
   "cell_type": "code",
   "execution_count": null,
   "metadata": {
    "id": "Vvh0pCtdZbRz"
   },
   "outputs": [],
   "source": []
  }
 ],
 "metadata": {
  "colab": {
   "provenance": []
  },
  "kaggle": {
   "accelerator": "none",
   "dataSources": [
    {
     "datasetId": 7749157,
     "sourceId": 12294858,
     "sourceType": "datasetVersion"
    }
   ],
   "dockerImageVersionId": 31040,
   "isGpuEnabled": false,
   "isInternetEnabled": true,
   "language": "python",
   "sourceType": "notebook"
  },
  "kernelspec": {
   "display_name": "Python 3",
   "language": "python",
   "name": "python3"
  },
  "language_info": {
   "codemirror_mode": {
    "name": "ipython",
    "version": 3
   },
   "file_extension": ".py",
   "mimetype": "text/x-python",
   "name": "python",
   "nbconvert_exporter": "python",
   "pygments_lexer": "ipython3",
   "version": "3.11.11"
  }
 },
 "nbformat": 4,
 "nbformat_minor": 0
}
